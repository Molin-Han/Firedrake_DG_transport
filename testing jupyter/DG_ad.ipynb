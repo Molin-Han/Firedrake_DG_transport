{
 "cells": [
  {
   "cell_type": "code",
   "execution_count": 1,
   "metadata": {},
   "outputs": [
    {
     "name": "stderr",
     "output_type": "stream",
     "text": [
      "firedrake:WARNING OMP_NUM_THREADS is not set or is set to a value greater than 1, we suggest setting OMP_NUM_THREADS=1 to improve performance\n"
     ]
    }
   ],
   "source": [
    "from firedrake import *\n",
    "import math\n",
    "import matplotlib.pyplot as plt\n",
    "from matplotlib.animation import FuncAnimation\n",
    "#mesh\n",
    "mesh = UnitSquareMesh(40, 40)\n",
    "#space\n",
    "V = FunctionSpace(mesh, \"DG\", 1)\n",
    "W = VectorFunctionSpace(mesh, \"CG\", 1)\n",
    "\n",
    "x, y = SpatialCoordinate(mesh)\n",
    "#velocity field\n",
    "velocity = as_vector(( (0.05*x - y+0.475 ) , ( x + 0.05*y-0.525)))\n",
    "u = Function(W).interpolate(velocity)\n",
    "\n",
    "#initial condition\n",
    "bell_r0 = 0.15; bell_x0 = 0.25; bell_y0 = 0.5\n",
    "cone_r0 = 0.15; cone_x0 = 0.5; cone_y0 = 0.25\n",
    "cyl_r0 = 0.15; cyl_x0 = 0.5; cyl_y0 = 0.75\n",
    "slot_left = 0.475; slot_right = 0.525; slot_top = 0.85\n",
    "\n",
    "bell = 0.25*(1+cos(math.pi*min_value(sqrt(pow(x-bell_x0, 2) + pow(y-bell_y0, 2))/bell_r0, 1.0)))\n",
    "cone = 1.0 - min_value(sqrt(pow(x-cone_x0, 2) + pow(y-cone_y0, 2))/cyl_r0, 1.0)\n",
    "slot_cyl = conditional(sqrt(pow(x-cyl_x0, 2) + pow(y-cyl_y0, 2)) < cyl_r0,\n",
    "            conditional(And(And(x > slot_left, x < slot_right), y < slot_top),\n",
    "            0.0, 1.0), 0.0)\n",
    "#+ bell + cone + slot_cyl\n",
    "rho = Function(V).interpolate(1.0 + bell + cone + slot_cyl)\n",
    "rho_init = Function(V).assign(rho)\n",
    "\n",
    "q = Function(V).interpolate(1.0 + bell + cone + slot_cyl)\n",
    "q_init = Function(V).assign(q)\n",
    "\n",
    "\n",
    "#solution list\n",
    "rhos = []\n",
    "qs = []\n",
    "\n",
    "#time period\n",
    "T = 2*math.pi\n",
    "dt = T/1200\n",
    "dtc = Constant(dt)\n",
    "rho_in = Constant(1.0)\n",
    "\n",
    "q_in = Constant(1.0)\n",
    "\n",
    "drho_trial = TrialFunction(V)\n",
    "dq_trial = TrialFunction(V)\n",
    "phi = TestFunction(V)\n",
    "a = phi*drho_trial*dx\n",
    "b = phi*dq_trial*dx\n",
    "\n",
    "\n",
    "#elements\n",
    "n = FacetNormal(mesh)\n",
    "un = 0.5*(dot(u, n) + abs(dot(u, n)))\n"
   ]
  },
  {
   "cell_type": "code",
   "execution_count": 2,
   "metadata": {},
   "outputs": [],
   "source": [
    "\n",
    "#variational problems for density\n",
    "L1_rho = dtc*(rho*dot(grad(phi),u)*dx\n",
    "          - conditional(dot(u, n) < 0, phi*dot(u, n)*rho_in, 0.0)*ds\n",
    "          - conditional(dot(u, n) > 0, phi*dot(u, n)*rho, 0.0)*ds\n",
    "          - (phi('+') - phi('-'))*(un('+')*rho('+') - un('-')*rho('-'))*dS)\n",
    "\n",
    "\n",
    "rho1 = Function(V); rho2 = Function(V)\n",
    "L2_rho = replace(L1_rho, {rho: rho1}); L3_rho = replace(L1_rho, {rho: rho2})\n",
    "\n",
    "drho = Function(V)\n",
    "\n",
    "\n",
    "#Flux Problem\n",
    "# Surface Flux equation - build RT2 out of BDM1 and TDG1\n",
    "Fluxes = FunctionSpace(mesh,\"BDM\",1)\n",
    "Inners = FunctionSpace(mesh,\"DRT\",1)\n",
    "W = MixedFunctionSpace((Fluxes,Inners))\n",
    "\n",
    "wI = TestFunction(Inners)\n",
    "assemble(inner(wI,u)*dx)\n",
    "\n",
    "wF,wI = TestFunctions(W)\n",
    "uF,uI = TrialFunctions(W)\n",
    "\n",
    "aFs = (\n",
    "    (inner(wF('+'),n('+'))*inner(uF('+'),n('+')) + \n",
    "     inner(wF('-'),n('-'))*inner(uF('-'),n('-')))*dS\n",
    "    + inner(wI,uI)*dx\n",
    "    )\n",
    "LFs = (\n",
    "    2.0*(inner(wF('+'),n('+'))*un('+')*rho('+') \n",
    "         + inner(wF('-'),n('-'))*un('-')*rho('-'))*dS\n",
    "    + inner(wI,u)*rho*dx\n",
    "    )\n",
    "\n",
    "Fs = Function(W)\n"
   ]
  },
  {
   "cell_type": "code",
   "execution_count": 3,
   "metadata": {},
   "outputs": [
    {
     "data": {
      "text/plain": [
       "Coefficient(WithGeometry(MixedFunctionSpace(IndexedProxyFunctionSpace(<firedrake.mesh.MeshTopology object at 0x7fc13805aa60>, FiniteElement('Brezzi-Douglas-Marini', triangle, 1), name=None, index=0, component=None), IndexedProxyFunctionSpace(<firedrake.mesh.MeshTopology object at 0x7fc13805aa60>, FiniteElement('Discontinuous Raviart-Thomas', triangle, 1), name=None, index=1, component=None), name='None_None'), Mesh(VectorElement(FiniteElement('Lagrange', triangle, 1), dim=2), 1)), 30)"
      ]
     },
     "execution_count": 3,
     "metadata": {},
     "output_type": "execute_result"
    }
   ],
   "source": [
    "Fs"
   ]
  },
  {
   "cell_type": "code",
   "execution_count": 6,
   "metadata": {},
   "outputs": [],
   "source": [
    "\n",
    "Fsproblem = LinearVariationalProblem(aFs, LFs, Fs)\n",
    "Fssolver = LinearVariationalSolver(Fsproblem)\n",
    "Fssolver.solve()"
   ]
  },
  {
   "cell_type": "code",
   "execution_count": 10,
   "metadata": {},
   "outputs": [
    {
     "data": {
      "text/plain": [
       "(4,)"
      ]
     },
     "execution_count": 10,
     "metadata": {},
     "output_type": "execute_result"
    }
   ],
   "source": [
    "Fs.ufl_shape"
   ]
  },
  {
   "cell_type": "code",
   "execution_count": 11,
   "metadata": {},
   "outputs": [
    {
     "data": {
      "text/plain": [
       "(2,)"
      ]
     },
     "execution_count": 11,
     "metadata": {},
     "output_type": "execute_result"
    }
   ],
   "source": [
    "n.ufl_shape"
   ]
  },
  {
   "cell_type": "code",
   "execution_count": 9,
   "metadata": {},
   "outputs": [
    {
     "name": "stderr",
     "output_type": "stream",
     "text": [
      "UFL:ERROR Dimension mismatch in dot product.\n"
     ]
    },
    {
     "ename": "UFLException",
     "evalue": "Dimension mismatch in dot product.",
     "output_type": "error",
     "traceback": [
      "\u001b[0;31m---------------------------------------------------------------------------\u001b[0m",
      "\u001b[0;31mUFLException\u001b[0m                              Traceback (most recent call last)",
      "\u001b[1;32m/home/molinhan/Firedrake_DG_transport/DG_ad.ipynb Cell 5\u001b[0m in \u001b[0;36m<cell line: 1>\u001b[0;34m()\u001b[0m\n\u001b[0;32m----> <a href='vscode-notebook-cell://wsl%2Bubuntu-20.04/home/molinhan/Firedrake_DG_transport/DG_ad.ipynb#ch0000004vscode-remote?line=0'>1</a>\u001b[0m dot(Fs, n)\n",
      "File \u001b[0;32m~/firedrake/src/ufl/ufl/operators.py:176\u001b[0m, in \u001b[0;36mdot\u001b[0;34m(a, b)\u001b[0m\n\u001b[1;32m    174\u001b[0m \u001b[39mif\u001b[39;00m a\u001b[39m.\u001b[39mufl_shape \u001b[39m==\u001b[39m () \u001b[39mand\u001b[39;00m b\u001b[39m.\u001b[39mufl_shape \u001b[39m==\u001b[39m ():\n\u001b[1;32m    175\u001b[0m     \u001b[39mreturn\u001b[39;00m a \u001b[39m*\u001b[39m b\n\u001b[0;32m--> 176\u001b[0m \u001b[39mreturn\u001b[39;00m Dot(a, b)\n",
      "File \u001b[0;32m~/firedrake/src/ufl/ufl/tensoralgebra.py:193\u001b[0m, in \u001b[0;36mDot.__new__\u001b[0;34m(cls, a, b)\u001b[0m\n\u001b[1;32m    190\u001b[0m     error(\u001b[39m\"\u001b[39m\u001b[39mDot product requires non-scalar arguments, \u001b[39m\u001b[39m\"\u001b[39m\n\u001b[1;32m    191\u001b[0m           \u001b[39m\"\u001b[39m\u001b[39mgot arguments with ranks \u001b[39m\u001b[39m%d\u001b[39;00m\u001b[39m and \u001b[39m\u001b[39m%d\u001b[39;00m\u001b[39m.\u001b[39m\u001b[39m\"\u001b[39m \u001b[39m%\u001b[39m (ar, br))\n\u001b[1;32m    192\u001b[0m \u001b[39mif\u001b[39;00m \u001b[39mnot\u001b[39;00m (scalar \u001b[39mor\u001b[39;00m ash[\u001b[39m-\u001b[39m\u001b[39m1\u001b[39m] \u001b[39m==\u001b[39m bsh[\u001b[39m0\u001b[39m]):\n\u001b[0;32m--> 193\u001b[0m     error(\u001b[39m\"\u001b[39;49m\u001b[39mDimension mismatch in dot product.\u001b[39;49m\u001b[39m\"\u001b[39;49m)\n\u001b[1;32m    195\u001b[0m \u001b[39m# Simplification\u001b[39;00m\n\u001b[1;32m    196\u001b[0m \u001b[39mif\u001b[39;00m \u001b[39misinstance\u001b[39m(a, Zero) \u001b[39mor\u001b[39;00m \u001b[39misinstance\u001b[39m(b, Zero):\n",
      "File \u001b[0;32m~/firedrake/src/ufl/ufl/log.py:158\u001b[0m, in \u001b[0;36mLogger.error\u001b[0;34m(self, *message)\u001b[0m\n\u001b[1;32m    156\u001b[0m \u001b[39m\"\u001b[39m\u001b[39mWrite error message and raise an exception.\u001b[39m\u001b[39m\"\u001b[39m\n\u001b[1;32m    157\u001b[0m \u001b[39mself\u001b[39m\u001b[39m.\u001b[39m_log\u001b[39m.\u001b[39merror(\u001b[39m*\u001b[39mmessage)\n\u001b[0;32m--> 158\u001b[0m \u001b[39mraise\u001b[39;00m \u001b[39mself\u001b[39m\u001b[39m.\u001b[39m_exception_type(\u001b[39mself\u001b[39m\u001b[39m.\u001b[39m_format_raw(\u001b[39m*\u001b[39mmessage))\n",
      "\u001b[0;31mUFLException\u001b[0m: Dimension mismatch in dot product."
     ]
    }
   ],
   "source": [
    "dot(Fs, n)"
   ]
  },
  {
   "cell_type": "code",
   "execution_count": null,
   "metadata": {},
   "outputs": [],
   "source": []
  }
 ],
 "metadata": {
  "kernelspec": {
   "display_name": "Python 3.8.10 ('firedrake': venv)",
   "language": "python",
   "name": "python3"
  },
  "language_info": {
   "codemirror_mode": {
    "name": "ipython",
    "version": 3
   },
   "file_extension": ".py",
   "mimetype": "text/x-python",
   "name": "python",
   "nbconvert_exporter": "python",
   "pygments_lexer": "ipython3",
   "version": "3.8.10"
  },
  "orig_nbformat": 4,
  "vscode": {
   "interpreter": {
    "hash": "cede3015d337f4548ee6bd30fa0236e655b1d4c6d37bdfce638927c81d1e565c"
   }
  }
 },
 "nbformat": 4,
 "nbformat_minor": 2
}
