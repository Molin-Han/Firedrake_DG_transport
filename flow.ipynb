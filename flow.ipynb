{
 "cells": [
  {
   "cell_type": "code",
   "execution_count": 1,
   "metadata": {},
   "outputs": [
    {
     "name": "stderr",
     "output_type": "stream",
     "text": [
      "firedrake:WARNING OMP_NUM_THREADS is not set or is set to a value greater than 1, we suggest setting OMP_NUM_THREADS=1 to improve performance\n"
     ]
    }
   ],
   "source": [
    "from firedrake import *"
   ]
  },
  {
   "cell_type": "code",
   "execution_count": 6,
   "metadata": {},
   "outputs": [],
   "source": [
    "import firedrake as firedrake"
   ]
  },
  {
   "cell_type": "code",
   "execution_count": 2,
   "metadata": {},
   "outputs": [],
   "source": [
    "mesh = UnitSquareMesh(40, 40)"
   ]
  },
  {
   "cell_type": "code",
   "execution_count": 3,
   "metadata": {},
   "outputs": [],
   "source": [
    "V_dg = FunctionSpace(mesh, \"DG\", 1)\n",
    "M = FunctionSpace(mesh, \"RT\", 2)"
   ]
  },
  {
   "cell_type": "code",
   "execution_count": 12,
   "metadata": {},
   "outputs": [
    {
     "ename": "UFLValueError",
     "evalue": "Invalid type conversion: -x[1] can not be converted to any UFL type.",
     "output_type": "error",
     "traceback": [
      "\u001b[0;31m---------------------------------------------------------------------------\u001b[0m",
      "\u001b[0;31mUFLValueError\u001b[0m                             Traceback (most recent call last)",
      "\u001b[1;32m/home/molinhan/Firedrake_DG_transport/flow.ipynb Cell 5\u001b[0m in \u001b[0;36m<cell line: 1>\u001b[0;34m()\u001b[0m\n\u001b[0;32m----> <a href='vscode-notebook-cell://wsl%2Bubuntu-20.04/home/molinhan/Firedrake_DG_transport/flow.ipynb#ch0000003vscode-remote?line=0'>1</a>\u001b[0m u0 \u001b[39m=\u001b[39m as_vector((\u001b[39m'\u001b[39;49m\u001b[39m-x[1]\u001b[39;49m\u001b[39m'\u001b[39;49m,\u001b[39m'\u001b[39;49m\u001b[39mx[0]\u001b[39;49m\u001b[39m'\u001b[39;49m,\u001b[39m'\u001b[39;49m\u001b[39m0\u001b[39;49m\u001b[39m'\u001b[39;49m))\n\u001b[1;32m      <a href='vscode-notebook-cell://wsl%2Bubuntu-20.04/home/molinhan/Firedrake_DG_transport/flow.ipynb#ch0000003vscode-remote?line=1'>2</a>\u001b[0m u \u001b[39m=\u001b[39m Function(M)\u001b[39m.\u001b[39mproject(u0)\n",
      "File \u001b[0;32m~/firedrake/src/ufl/ufl/tensors.py:313\u001b[0m, in \u001b[0;36mas_vector\u001b[0;34m(expressions, index)\u001b[0m\n\u001b[1;32m    310\u001b[0m         error(\u001b[39m\"\u001b[39m\u001b[39mExpecting a single Index object.\u001b[39m\u001b[39m\"\u001b[39m)\n\u001b[1;32m    311\u001b[0m     index \u001b[39m=\u001b[39m (index,)\n\u001b[0;32m--> 313\u001b[0m \u001b[39mreturn\u001b[39;00m as_tensor(expressions, index)\n",
      "File \u001b[0;32m~/firedrake/src/ufl/ufl/tensors.py:243\u001b[0m, in \u001b[0;36mas_tensor\u001b[0;34m(expressions, indices)\u001b[0m\n\u001b[1;32m    239\u001b[0m         error(\u001b[39m\"\u001b[39m\u001b[39mExpecting nested list or tuple.\u001b[39m\u001b[39m\"\u001b[39m)\n\u001b[1;32m    241\u001b[0m     \u001b[39m# Recursive conversion from nested lists to nested ListTensor\u001b[39;00m\n\u001b[1;32m    242\u001b[0m     \u001b[39m# objects\u001b[39;00m\n\u001b[0;32m--> 243\u001b[0m     \u001b[39mreturn\u001b[39;00m _as_list_tensor(expressions)\n\u001b[1;32m    244\u001b[0m \u001b[39melse\u001b[39;00m:\n\u001b[1;32m    245\u001b[0m     \u001b[39m# Make sure we have a tuple of indices\u001b[39;00m\n\u001b[1;32m    246\u001b[0m     \u001b[39mif\u001b[39;00m \u001b[39misinstance\u001b[39m(indices, \u001b[39mlist\u001b[39m):\n",
      "File \u001b[0;32m~/firedrake/src/ufl/ufl/tensors.py:191\u001b[0m, in \u001b[0;36m_as_list_tensor\u001b[0;34m(expressions)\u001b[0m\n\u001b[1;32m    189\u001b[0m \u001b[39mdef\u001b[39;00m \u001b[39m_as_list_tensor\u001b[39m(expressions):\n\u001b[1;32m    190\u001b[0m     \u001b[39mif\u001b[39;00m \u001b[39misinstance\u001b[39m(expressions, (\u001b[39mlist\u001b[39m, \u001b[39mtuple\u001b[39m)):\n\u001b[0;32m--> 191\u001b[0m         expressions \u001b[39m=\u001b[39m [_as_list_tensor(e) \u001b[39mfor\u001b[39;00m e \u001b[39min\u001b[39;00m expressions]\n\u001b[1;32m    192\u001b[0m         \u001b[39mreturn\u001b[39;00m ListTensor(\u001b[39m*\u001b[39mexpressions)\n\u001b[1;32m    193\u001b[0m     \u001b[39melse\u001b[39;00m:\n",
      "File \u001b[0;32m~/firedrake/src/ufl/ufl/tensors.py:191\u001b[0m, in \u001b[0;36m<listcomp>\u001b[0;34m(.0)\u001b[0m\n\u001b[1;32m    189\u001b[0m \u001b[39mdef\u001b[39;00m \u001b[39m_as_list_tensor\u001b[39m(expressions):\n\u001b[1;32m    190\u001b[0m     \u001b[39mif\u001b[39;00m \u001b[39misinstance\u001b[39m(expressions, (\u001b[39mlist\u001b[39m, \u001b[39mtuple\u001b[39m)):\n\u001b[0;32m--> 191\u001b[0m         expressions \u001b[39m=\u001b[39m [_as_list_tensor(e) \u001b[39mfor\u001b[39;00m e \u001b[39min\u001b[39;00m expressions]\n\u001b[1;32m    192\u001b[0m         \u001b[39mreturn\u001b[39;00m ListTensor(\u001b[39m*\u001b[39mexpressions)\n\u001b[1;32m    193\u001b[0m     \u001b[39melse\u001b[39;00m:\n",
      "File \u001b[0;32m~/firedrake/src/ufl/ufl/tensors.py:194\u001b[0m, in \u001b[0;36m_as_list_tensor\u001b[0;34m(expressions)\u001b[0m\n\u001b[1;32m    192\u001b[0m     \u001b[39mreturn\u001b[39;00m ListTensor(\u001b[39m*\u001b[39mexpressions)\n\u001b[1;32m    193\u001b[0m \u001b[39melse\u001b[39;00m:\n\u001b[0;32m--> 194\u001b[0m     \u001b[39mreturn\u001b[39;00m as_ufl(expressions)\n",
      "File \u001b[0;32m~/firedrake/src/ufl/ufl/constantvalue.py:437\u001b[0m, in \u001b[0;36mas_ufl\u001b[0;34m(expression)\u001b[0m\n\u001b[1;32m    435\u001b[0m     \u001b[39mreturn\u001b[39;00m IntValue(expression)\n\u001b[1;32m    436\u001b[0m \u001b[39melse\u001b[39;00m:\n\u001b[0;32m--> 437\u001b[0m     \u001b[39mraise\u001b[39;00m UFLValueError(\u001b[39m\"\u001b[39m\u001b[39mInvalid type conversion: \u001b[39m\u001b[39m%s\u001b[39;00m\u001b[39m can not be converted\u001b[39m\u001b[39m\"\u001b[39m\n\u001b[1;32m    438\u001b[0m                         \u001b[39m\"\u001b[39m\u001b[39m to any UFL type.\u001b[39m\u001b[39m\"\u001b[39m \u001b[39m%\u001b[39m \u001b[39mstr\u001b[39m(expression))\n",
      "\u001b[0;31mUFLValueError\u001b[0m: Invalid type conversion: -x[1] can not be converted to any UFL type."
     ]
    }
   ],
   "source": [
    "u0 = Expression(('-x[1]','x[0]','0'))\n",
    "u = Function(M).project(u0)"
   ]
  },
  {
   "cell_type": "code",
   "execution_count": 6,
   "metadata": {},
   "outputs": [
    {
     "ename": "NameError",
     "evalue": "name 'u' is not defined",
     "output_type": "error",
     "traceback": [
      "\u001b[0;31m---------------------------------------------------------------------------\u001b[0m",
      "\u001b[0;31mNameError\u001b[0m                                 Traceback (most recent call last)",
      "\u001b[1;32m/home/molinhan/Firedrake_DG_transport/flow.ipynb Cell 5\u001b[0m in \u001b[0;36m<cell line: 4>\u001b[0;34m()\u001b[0m\n\u001b[1;32m      <a href='vscode-notebook-cell://wsl%2Bubuntu-20.04/home/molinhan/Firedrake_DG_transport/flow.ipynb#ch0000003vscode-remote?line=0'>1</a>\u001b[0m n \u001b[39m=\u001b[39m FacetNormal(mesh)\n\u001b[1;32m      <a href='vscode-notebook-cell://wsl%2Bubuntu-20.04/home/molinhan/Firedrake_DG_transport/flow.ipynb#ch0000003vscode-remote?line=2'>3</a>\u001b[0m \u001b[39m# ( dot(v, n) + |dot(v, n)| )/2.0\u001b[39;00m\n\u001b[0;32m----> <a href='vscode-notebook-cell://wsl%2Bubuntu-20.04/home/molinhan/Firedrake_DG_transport/flow.ipynb#ch0000003vscode-remote?line=3'>4</a>\u001b[0m un \u001b[39m=\u001b[39m \u001b[39m0.5\u001b[39m\u001b[39m*\u001b[39m(dot(u, n) \u001b[39m+\u001b[39m \u001b[39mabs\u001b[39m(dot(u, n)))\n\u001b[1;32m      <a href='vscode-notebook-cell://wsl%2Bubuntu-20.04/home/molinhan/Firedrake_DG_transport/flow.ipynb#ch0000003vscode-remote?line=5'>6</a>\u001b[0m dt \u001b[39m=\u001b[39m \u001b[39m1.0\u001b[39m\n",
      "\u001b[0;31mNameError\u001b[0m: name 'u' is not defined"
     ]
    }
   ],
   "source": [
    "n = FacetNormal(mesh)\n",
    "\n",
    "# ( dot(v, n) + |dot(v, n)| )/2.0\n",
    "un = 0.5*(dot(u, n) + abs(dot(u, n)))\n",
    "\n",
    "dt = 1.0"
   ]
  },
  {
   "cell_type": "code",
   "execution_count": null,
   "metadata": {},
   "outputs": [],
   "source": [
    "\n",
    "# D advection equation\n",
    "phi = TestFunction(V_dg)\n",
    "D = TrialFunction(V_dg)\n",
    "a_mass = phi*D*dx\n",
    "a_int = dot(grad(phi), -u*D)*dx\n",
    "a_flux = ( dot(jump(phi), un('+')*D('+') - un('-')*D('-')) )*dS\n",
    "\n",
    "arhs = (a_int + a_flux)\n",
    "\n",
    "D1 = Function(V_dg)\n",
    "\n",
    "D0 = Expression(\"exp(-pow(x[2],2) - pow(x[1],2))\")\n",
    "D = Function(V_dg).interpolate(D0)"
   ]
  },
  {
   "cell_type": "code",
   "execution_count": null,
   "metadata": {},
   "outputs": [],
   "source": [
    "t = 0.0\n",
    "T = 2*pi\n",
    "k = 0\n",
    "dumpfreq = 50"
   ]
  },
  {
   "cell_type": "code",
   "execution_count": null,
   "metadata": {},
   "outputs": [],
   "source": [
    "\n",
    "D1problem = LinearVariationalProblem(a_mass, action(arhs,D), D1)\n",
    "D1solver = LinearVariationalSolver(D1problem)\n",
    "D1solver.solve()"
   ]
  },
  {
   "cell_type": "code",
   "execution_count": null,
   "metadata": {},
   "outputs": [],
   "source": [
    "\n",
    "# Surface Flux equation - build RT2 out of BDM1 and TDG1\n",
    "Fluxes = FunctionSpace(mesh,\"BDM\",1)\n",
    "Inners = FunctionSpace(mesh,\"DRT\",1)\n",
    "W = MixedFunctionSpace((Fluxes,Inners))"
   ]
  },
  {
   "cell_type": "code",
   "execution_count": null,
   "metadata": {},
   "outputs": [],
   "source": [
    "\n",
    "wI = TestFunction(Inners)\n",
    "assemble(inner(wI,u)*dx)\n",
    "\n",
    "wF,wI = TestFunctions(W)\n",
    "uF,uI = TrialFunctions(W)\n"
   ]
  },
  {
   "cell_type": "code",
   "execution_count": null,
   "metadata": {},
   "outputs": [],
   "source": [
    "\n",
    "aFs = (\n",
    "    (inner(wF('+'),n('+'))*inner(uF('+'),n('+')) + \n",
    "     inner(wF('-'),n('-'))*inner(uF('-'),n('-')))*dS\n",
    "    + inner(wI,uI)*dx\n",
    "    )\n",
    "LFs = (\n",
    "    2.0*(inner(wF('+'),n('+'))*un('+')*D('+') \n",
    "         + inner(wF('-'),n('-'))*un('-')*D('-'))*dS\n",
    "    + inner(wI,u)*D*dx\n",
    "    )\n"
   ]
  },
  {
   "cell_type": "code",
   "execution_count": null,
   "metadata": {},
   "outputs": [],
   "source": [
    "Fs = Function(W)"
   ]
  },
  {
   "cell_type": "code",
   "execution_count": null,
   "metadata": {},
   "outputs": [],
   "source": [
    "Fsproblem = LinearVariationalProblem(aFs, LFs, Fs)\n",
    "Fssolver = LinearVariationalSolver(Fsproblem)\n",
    "Fssolver.solve()"
   ]
  }
 ],
 "metadata": {
  "kernelspec": {
   "display_name": "Python 3.8.10 ('firedrake': venv)",
   "language": "python",
   "name": "python3"
  },
  "language_info": {
   "codemirror_mode": {
    "name": "ipython",
    "version": 3
   },
   "file_extension": ".py",
   "mimetype": "text/x-python",
   "name": "python",
   "nbconvert_exporter": "python",
   "pygments_lexer": "ipython3",
   "version": "3.8.10"
  },
  "orig_nbformat": 4,
  "vscode": {
   "interpreter": {
    "hash": "cede3015d337f4548ee6bd30fa0236e655b1d4c6d37bdfce638927c81d1e565c"
   }
  }
 },
 "nbformat": 4,
 "nbformat_minor": 2
}
