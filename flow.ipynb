{
 "cells": [
  {
   "cell_type": "code",
   "execution_count": 1,
   "metadata": {},
   "outputs": [
    {
     "name": "stderr",
     "output_type": "stream",
     "text": [
      "firedrake:WARNING OMP_NUM_THREADS is not set or is set to a value greater than 1, we suggest setting OMP_NUM_THREADS=1 to improve performance\n"
     ]
    }
   ],
   "source": [
    "from firedrake import *\n",
    "import math\n",
    "import matplotlib.pyplot as plt\n",
    "from matplotlib.animation import FuncAnimation\n",
    "\n",
    "mesh = UnitSquareMesh(40, 40)\n",
    "\n",
    "\n",
    "\n",
    "V = FunctionSpace(mesh, \"DG\", 1)\n",
    "W = VectorFunctionSpace(mesh, \"CG\", 1)\n",
    "\n",
    "x, y = SpatialCoordinate(mesh)\n",
    "\n",
    "velocity = as_vector((0.5 - y, x - 0.5))\n",
    "u = Function(W).interpolate(velocity)\n",
    "\n",
    "\n",
    "bell_r0 = 0.15; bell_x0 = 0.25; bell_y0 = 0.5\n",
    "cone_r0 = 0.15; cone_x0 = 0.5; cone_y0 = 0.25\n",
    "cyl_r0 = 0.15; cyl_x0 = 0.5; cyl_y0 = 0.75\n",
    "slot_left = 0.475; slot_right = 0.525; slot_top = 0.85\n",
    "\n",
    "bell = 0.25*(1+cos(math.pi*min_value(sqrt(pow(x-bell_x0, 2) + pow(y-bell_y0, 2))/bell_r0, 1.0)))\n",
    "cone = 1.0 - min_value(sqrt(pow(x-cone_x0, 2) + pow(y-cone_y0, 2))/cyl_r0, 1.0)\n",
    "slot_cyl = conditional(sqrt(pow(x-cyl_x0, 2) + pow(y-cyl_y0, 2)) < cyl_r0,\n",
    "             conditional(And(And(x > slot_left, x < slot_right), y < slot_top),\n",
    "               0.0, 1.0), 0.0)\n",
    "\n",
    "q = Function(V).interpolate(1.0 + bell + cone + slot_cyl)\n",
    "q_init = Function(V).assign(q)\n",
    "\n",
    "qs = []\n",
    "\n",
    "\n",
    "T = 4*math.pi\n",
    "dt = T/1200\n",
    "dtc = Constant(dt)\n",
    "q_in = Constant(1.0)\n",
    "\n",
    "dq_trial = TrialFunction(V)\n",
    "phi = TestFunction(V)\n",
    "a = phi*dq_trial*dx\n",
    "\n",
    "n = FacetNormal(mesh)\n",
    "un = 0.5*(dot(u, n) + abs(dot(u, n)))\n",
    "\n",
    "\n",
    "L1 = dtc*(q*dot(grad(phi),u)*dx\n",
    "          - conditional(dot(u, n) < 0, phi*dot(u, n)*q_in, 0.0)*ds\n",
    "          - conditional(dot(u, n) > 0, phi*dot(u, n)*q, 0.0)*ds\n",
    "          - (phi('+') - phi('-'))*(un('+')*q('+') - un('-')*q('-'))*dS)\n",
    "\n",
    "\n",
    "q1 = Function(V); q2 = Function(V)\n",
    "L2 = replace(L1, {q: q1}); L3 = replace(L1, {q: q2})\n",
    "\n",
    "dq = Function(V)\n",
    "\n",
    "params = {'ksp_type': 'preonly', 'pc_type': 'bjacobi', 'sub_pc_type': 'ilu'}\n",
    "prob1 = LinearVariationalProblem(a, L1, dq)\n",
    "solv1 = LinearVariationalSolver(prob1, solver_parameters=params)\n",
    "prob2 = LinearVariationalProblem(a, L2, dq)\n",
    "solv2 = LinearVariationalSolver(prob2, solver_parameters=params)\n",
    "prob3 = LinearVariationalProblem(a, L3, dq)\n",
    "solv3 = LinearVariationalSolver(prob3, solver_parameters=params)\n",
    "\n",
    "limiter = VertexBasedLimiter(V)\n",
    "t = 0.0\n",
    "step = 0\n",
    "output_freq = 20\n",
    "\n",
    "while t < T - 0.5*dt:\n",
    "    solv1.solve()\n",
    "    q1.assign(q + dq)\n",
    "\n",
    "    solv2.solve()\n",
    "    q2.assign(0.75*q + 0.25*(q1 + dq))\n",
    "\n",
    "    solv3.solve()\n",
    "    q.assign((1.0/3.0)*q + (2.0/3.0)*(q2 + dq))\n",
    "\n",
    "    step += 1\n",
    "    t += dt\n",
    "\n",
    "    if step % output_freq == 0:\n",
    "        qs.append(q.copy(deepcopy=True))\n",
    "\n",
    "\n",
    "Fluxes = FunctionSpace(mesh,\"BDM\",1)\n",
    "Inners = FunctionSpace(mesh,\"DRT\",1)\n",
    "W = MixedFunctionSpace((Fluxes,Inners))\n",
    "\n",
    "wI = TestFunction(Inners)\n",
    "assemble(inner(wI,u)*dx)\n",
    "\n",
    "wF,wI = TestFunctions(W)\n",
    "uF,uI = TrialFunctions(W)\n",
    "\n",
    "aFs = (\n",
    "    (inner(wF('+'),n('+'))*inner(uF('+'),n('+')) + \n",
    "     inner(wF('-'),n('-'))*inner(uF('-'),n('-')))*dS\n",
    "    + inner(wI,uI)*dx\n",
    "    )\n",
    "LFs = (\n",
    "    2.0*(inner(wF('+'),n('+'))*un('+')*q('+') \n",
    "         + inner(wF('-'),n('-'))*un('-')*q('-'))*dS\n",
    "    + inner(wI,u)*q*dx\n",
    "    )\n",
    "\n",
    "Fs = Function(W)\n",
    "\n",
    "Fsproblem = LinearVariationalProblem(aFs, LFs, Fs)\n",
    "Fssolver = LinearVariationalSolver(Fsproblem)\n",
    "Fssolver.solve()\n"
   ]
  },
  {
   "cell_type": "code",
   "execution_count": 2,
   "metadata": {},
   "outputs": [
    {
     "data": {
      "text/plain": [
       "Coefficient(WithGeometry(MixedFunctionSpace(IndexedProxyFunctionSpace(<firedrake.mesh.MeshTopology object at 0x7f1a2017c3a0>, FiniteElement('Brezzi-Douglas-Marini', triangle, 1), name=None, index=0, component=None), IndexedProxyFunctionSpace(<firedrake.mesh.MeshTopology object at 0x7f1a2017c3a0>, FiniteElement('Discontinuous Raviart-Thomas', triangle, 1), name=None, index=1, component=None), name='None_None'), Mesh(VectorElement(FiniteElement('Lagrange', triangle, 1), dim=2), 1)), 167)"
      ]
     },
     "execution_count": 2,
     "metadata": {},
     "output_type": "execute_result"
    }
   ],
   "source": [
    "Fs"
   ]
  },
  {
   "cell_type": "code",
   "execution_count": 3,
   "metadata": {},
   "outputs": [
    {
     "name": "stdout",
     "output_type": "stream",
     "text": [
      "w⃗₁₆₇\n"
     ]
    }
   ],
   "source": [
    "print(Fs)"
   ]
  },
  {
   "cell_type": "code",
   "execution_count": null,
   "metadata": {},
   "outputs": [],
   "source": []
  }
 ],
 "metadata": {
  "kernelspec": {
   "display_name": "Python 3.8.10 ('firedrake': venv)",
   "language": "python",
   "name": "python3"
  },
  "language_info": {
   "codemirror_mode": {
    "name": "ipython",
    "version": 3
   },
   "file_extension": ".py",
   "mimetype": "text/x-python",
   "name": "python",
   "nbconvert_exporter": "python",
   "pygments_lexer": "ipython3",
   "version": "3.8.10"
  },
  "orig_nbformat": 4,
  "vscode": {
   "interpreter": {
    "hash": "cede3015d337f4548ee6bd30fa0236e655b1d4c6d37bdfce638927c81d1e565c"
   }
  }
 },
 "nbformat": 4,
 "nbformat_minor": 2
}
