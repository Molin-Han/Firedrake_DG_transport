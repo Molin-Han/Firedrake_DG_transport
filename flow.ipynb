{
 "cells": [
  {
   "cell_type": "code",
   "execution_count": 16,
   "metadata": {},
   "outputs": [],
   "source": [
    "from firedrake import *"
   ]
  },
  {
   "cell_type": "code",
   "execution_count": 17,
   "metadata": {},
   "outputs": [],
   "source": [
    "mesh = UnitSquareMesh(40, 40)"
   ]
  },
  {
   "cell_type": "code",
   "execution_count": 18,
   "metadata": {},
   "outputs": [],
   "source": [
    "V_dg = FunctionSpace(mesh, \"DG\", 1)\n",
    "M = FunctionSpace(mesh, \"RT\", 2)"
   ]
  },
  {
   "cell_type": "code",
   "execution_count": 19,
   "metadata": {},
   "outputs": [
    {
     "ename": "NameError",
     "evalue": "name 'Expression' is not defined",
     "output_type": "error",
     "traceback": [
      "\u001b[0;31m---------------------------------------------------------------------------\u001b[0m",
      "\u001b[0;31mNameError\u001b[0m                                 Traceback (most recent call last)",
      "\u001b[1;32m/home/molinhan/Firedrake_DG_transport/flow.ipynb Cell 4\u001b[0m in \u001b[0;36m<cell line: 1>\u001b[0;34m()\u001b[0m\n\u001b[0;32m----> <a href='vscode-notebook-cell://wsl%2Bubuntu-20.04/home/molinhan/Firedrake_DG_transport/flow.ipynb#ch0000002vscode-remote?line=0'>1</a>\u001b[0m u0 \u001b[39m=\u001b[39m Expression((\u001b[39m'\u001b[39m\u001b[39m-x[1]\u001b[39m\u001b[39m'\u001b[39m,\u001b[39m'\u001b[39m\u001b[39mx[0]\u001b[39m\u001b[39m'\u001b[39m,\u001b[39m'\u001b[39m\u001b[39m0\u001b[39m\u001b[39m'\u001b[39m))\n\u001b[1;32m      <a href='vscode-notebook-cell://wsl%2Bubuntu-20.04/home/molinhan/Firedrake_DG_transport/flow.ipynb#ch0000002vscode-remote?line=1'>2</a>\u001b[0m u \u001b[39m=\u001b[39m Function(M)\u001b[39m.\u001b[39mproject(u0)\n",
      "\u001b[0;31mNameError\u001b[0m: name 'Expression' is not defined"
     ]
    }
   ],
   "source": [
    "u0 = Expression(('-x[1]','x[0]','0'))\n",
    "u = Function(M).project(u0)"
   ]
  },
  {
   "cell_type": "code",
   "execution_count": 6,
   "metadata": {},
   "outputs": [
    {
     "ename": "NameError",
     "evalue": "name 'u' is not defined",
     "output_type": "error",
     "traceback": [
      "\u001b[0;31m---------------------------------------------------------------------------\u001b[0m",
      "\u001b[0;31mNameError\u001b[0m                                 Traceback (most recent call last)",
      "\u001b[1;32m/home/molinhan/Firedrake_DG_transport/flow.ipynb Cell 5\u001b[0m in \u001b[0;36m<cell line: 4>\u001b[0;34m()\u001b[0m\n\u001b[1;32m      <a href='vscode-notebook-cell://wsl%2Bubuntu-20.04/home/molinhan/Firedrake_DG_transport/flow.ipynb#ch0000003vscode-remote?line=0'>1</a>\u001b[0m n \u001b[39m=\u001b[39m FacetNormal(mesh)\n\u001b[1;32m      <a href='vscode-notebook-cell://wsl%2Bubuntu-20.04/home/molinhan/Firedrake_DG_transport/flow.ipynb#ch0000003vscode-remote?line=2'>3</a>\u001b[0m \u001b[39m# ( dot(v, n) + |dot(v, n)| )/2.0\u001b[39;00m\n\u001b[0;32m----> <a href='vscode-notebook-cell://wsl%2Bubuntu-20.04/home/molinhan/Firedrake_DG_transport/flow.ipynb#ch0000003vscode-remote?line=3'>4</a>\u001b[0m un \u001b[39m=\u001b[39m \u001b[39m0.5\u001b[39m\u001b[39m*\u001b[39m(dot(u, n) \u001b[39m+\u001b[39m \u001b[39mabs\u001b[39m(dot(u, n)))\n\u001b[1;32m      <a href='vscode-notebook-cell://wsl%2Bubuntu-20.04/home/molinhan/Firedrake_DG_transport/flow.ipynb#ch0000003vscode-remote?line=5'>6</a>\u001b[0m dt \u001b[39m=\u001b[39m \u001b[39m1.0\u001b[39m\n",
      "\u001b[0;31mNameError\u001b[0m: name 'u' is not defined"
     ]
    }
   ],
   "source": [
    "n = FacetNormal(mesh)\n",
    "\n",
    "# ( dot(v, n) + |dot(v, n)| )/2.0\n",
    "un = 0.5*(dot(u, n) + abs(dot(u, n)))\n",
    "\n",
    "dt = 1.0\n"
   ]
  },
  {
   "cell_type": "code",
   "execution_count": null,
   "metadata": {},
   "outputs": [],
   "source": [
    "\n",
    "# D advection equation\n",
    "phi = TestFunction(V_dg)\n",
    "D = TrialFunction(V_dg)\n",
    "a_mass = phi*D*dx\n",
    "a_int = dot(grad(phi), -u*D)*dx\n",
    "a_flux = ( dot(jump(phi), un('+')*D('+') - un('-')*D('-')) )*dS\n",
    "\n",
    "arhs = (a_int + a_flux)\n",
    "\n",
    "D1 = Function(V_dg)\n",
    "\n",
    "D0 = Expression(\"exp(-pow(x[2],2) - pow(x[1],2))\")\n",
    "D = Function(V_dg).interpolate(D0)"
   ]
  },
  {
   "cell_type": "code",
   "execution_count": null,
   "metadata": {},
   "outputs": [],
   "source": [
    "t = 0.0\n",
    "T = 2*pi\n",
    "k = 0\n",
    "dumpfreq = 50"
   ]
  },
  {
   "cell_type": "code",
   "execution_count": null,
   "metadata": {},
   "outputs": [],
   "source": [
    "\n",
    "D1problem = LinearVariationalProblem(a_mass, action(arhs,D), D1)\n",
    "D1solver = LinearVariationalSolver(D1problem)\n",
    "D1solver.solve()"
   ]
  },
  {
   "cell_type": "code",
   "execution_count": null,
   "metadata": {},
   "outputs": [],
   "source": [
    "\n",
    "# Surface Flux equation - build RT2 out of BDM1 and TDG1\n",
    "Fluxes = FunctionSpace(mesh,\"BDM\",1)\n",
    "Inners = FunctionSpace(mesh,\"DRT\",1)\n",
    "W = MixedFunctionSpace((Fluxes,Inners))"
   ]
  },
  {
   "cell_type": "code",
   "execution_count": null,
   "metadata": {},
   "outputs": [],
   "source": [
    "\n",
    "wI = TestFunction(Inners)\n",
    "assemble(inner(wI,u)*dx)\n",
    "\n",
    "wF,wI = TestFunctions(W)\n",
    "uF,uI = TrialFunctions(W)\n"
   ]
  },
  {
   "cell_type": "code",
   "execution_count": null,
   "metadata": {},
   "outputs": [],
   "source": [
    "\n",
    "aFs = (\n",
    "    (inner(wF('+'),n('+'))*inner(uF('+'),n('+')) + \n",
    "     inner(wF('-'),n('-'))*inner(uF('-'),n('-')))*dS\n",
    "    + inner(wI,uI)*dx\n",
    "    )\n",
    "LFs = (\n",
    "    2.0*(inner(wF('+'),n('+'))*un('+')*D('+') \n",
    "         + inner(wF('-'),n('-'))*un('-')*D('-'))*dS\n",
    "    + inner(wI,u)*D*dx\n",
    "    )\n"
   ]
  },
  {
   "cell_type": "code",
   "execution_count": null,
   "metadata": {},
   "outputs": [],
   "source": [
    "Fs = Function(W)"
   ]
  },
  {
   "cell_type": "code",
   "execution_count": null,
   "metadata": {},
   "outputs": [],
   "source": [
    "Fsproblem = LinearVariationalProblem(aFs, LFs, Fs)\n",
    "Fssolver = LinearVariationalSolver(Fsproblem)\n",
    "Fssolver.solve()"
   ]
  }
 ],
 "metadata": {
  "kernelspec": {
   "display_name": "Python 3.8.10 ('firedrake': venv)",
   "language": "python",
   "name": "python3"
  },
  "language_info": {
   "codemirror_mode": {
    "name": "ipython",
    "version": 3
   },
   "file_extension": ".py",
   "mimetype": "text/x-python",
   "name": "python",
   "nbconvert_exporter": "python",
   "pygments_lexer": "ipython3",
   "version": "3.8.10"
  },
  "orig_nbformat": 4,
  "vscode": {
   "interpreter": {
    "hash": "cede3015d337f4548ee6bd30fa0236e655b1d4c6d37bdfce638927c81d1e565c"
   }
  }
 },
 "nbformat": 4,
 "nbformat_minor": 2
}
