{
 "cells": [
  {
   "cell_type": "code",
   "execution_count": 1,
   "metadata": {},
   "outputs": [
    {
     "name": "stderr",
     "output_type": "stream",
     "text": [
      "firedrake:WARNING OMP_NUM_THREADS is not set or is set to a value greater than 1, we suggest setting OMP_NUM_THREADS=1 to improve performance\n"
     ]
    }
   ],
   "source": [
    "from firedrake import *\n",
    "import math\n",
    "import matplotlib.pyplot as plt\n",
    "from matplotlib.animation import FuncAnimation"
   ]
  },
  {
   "cell_type": "code",
   "execution_count": null,
   "metadata": {},
   "outputs": [],
   "source": [
    "mesh = UnitSquareMesh(40, 40, quadrilateral=True)\n",
    "\n",
    "V = FunctionSpace(mesh, \"DG\", 0)\n",
    "W = VectorFunctionSpace(mesh, \"CG\", 1)\n",
    "\n",
    "x, y = SpatialCoordinate(mesh)\n",
    "\n",
    "velocity = as_vector(( (0.5 - y ), ( x - 0.5) ))\n",
    "u = Function(W).interpolate(velocity)"
   ]
  },
  {
   "cell_type": "code",
   "execution_count": null,
   "metadata": {},
   "outputs": [],
   "source": [
    "bell_r0 = 0.15; bell_x0 = 0.25; bell_y0 = 0.5\n",
    "cone_r0 = 0.15; cone_x0 = 0.5; cone_y0 = 0.25\n",
    "cyl_r0 = 0.15; cyl_x0 = 0.5; cyl_y0 = 0.75\n",
    "slot_left = 0.475; slot_right = 0.525; slot_top = 0.85\n",
    "\n",
    "bell = 0.25*(1+cos(math.pi*min_value(sqrt(pow(x-bell_x0, 2) + pow(y-bell_y0, 2))/bell_r0, 1.0)))\n",
    "cone = 1.0 - min_value(sqrt(pow(x-cone_x0, 2) + pow(y-cone_y0, 2))/cyl_r0, 1.0)\n",
    "slot_cyl = conditional(sqrt(pow(x-cyl_x0, 2) + pow(y-cyl_y0, 2)) < cyl_r0,\n",
    "             conditional(And(And(x > slot_left, x < slot_right), y < slot_top),\n",
    "               0.0, 1.0), 0.0)"
   ]
  },
  {
   "cell_type": "code",
   "execution_count": null,
   "metadata": {},
   "outputs": [],
   "source": [
    "q = Function(V).interpolate(1.0 + bell + cone + slot_cyl)\n",
    "q_init = Function(V).assign(q)\n",
    "\n",
    "qs = []\n",
    "T = 2*math.pi\n",
    "dt = T/1200\n",
    "dtc = Constant(dt)\n",
    "q_in = Constant(1.0)\n",
    "\n",
    "dq_trial = TrialFunction(V)\n",
    "phi = TestFunction(V)\n",
    "a = phi*dq_trial*dx\n",
    "\n",
    "n = FacetNormal(mesh)\n",
    "un = 0.5*(dot(u, n) + abs(dot(u, n)))"
   ]
  },
  {
   "cell_type": "code",
   "execution_count": null,
   "metadata": {},
   "outputs": [],
   "source": [
    "L1 = dtc*(q*div(phi*u)*dx\n",
    "          - conditional(dot(u, n) < 0, phi*dot(u, n)*q_in, 0.0)*ds\n",
    "          - conditional(dot(u, n) > 0, phi*dot(u, n)*q, 0.0)*ds\n",
    "          - (phi('+') - phi('-'))*(un('+')*q('+') - un('-')*q('-'))*dS)\n",
    "\n",
    "q1 = Function(V); q2 = Function(V)\n",
    "L2 = replace(L1, {q: q1}); L3 = replace(L1, {q: q2})\n",
    "\n",
    "\n",
    "dq = Function(V)"
   ]
  },
  {
   "cell_type": "code",
   "execution_count": null,
   "metadata": {},
   "outputs": [],
   "source": [
    "params = {'ksp_type': 'preonly', 'pc_type': 'bjacobi', 'sub_pc_type': 'ilu'}\n",
    "prob1 = LinearVariationalProblem(a, L1, dq)\n",
    "solv1 = LinearVariationalSolver(prob1, solver_parameters=params)\n",
    "prob2 = LinearVariationalProblem(a, L2, dq)\n",
    "solv2 = LinearVariationalSolver(prob2, solver_parameters=params)\n",
    "prob3 = LinearVariationalProblem(a, L3, dq)\n",
    "solv3 = LinearVariationalSolver(prob3, solver_parameters=params)"
   ]
  },
  {
   "cell_type": "code",
   "execution_count": null,
   "metadata": {},
   "outputs": [],
   "source": [
    "t = 0.0\n",
    "step = 0\n",
    "output_freq = 20\n",
    "\n",
    "if step % output_freq == 0:\n",
    "    qs.append(q.copy(deepcopy=True))\n",
    "    print(\"t=\", t)\n",
    "print(q.dat.data.max())"
   ]
  },
  {
   "cell_type": "code",
   "execution_count": null,
   "metadata": {},
   "outputs": [],
   "source": [
    "while t < T - 0.5*dt:\n",
    "    solv1.solve()\n",
    "    q.assign(q + dq)\n",
    "\n",
    "    #solv2.solve()\n",
    "    #q2.assign(0.75*q + 0.25*(q1 + dq))\n",
    "\n",
    "    #solv3.solve()\n",
    "    #q.assign((1.0/3.0)*q + (2.0/3.0)*(q2 + dq))\n",
    "\n",
    "    print(q.dat.data.max())\n",
    "    step += 1\n",
    "    t += dt\n",
    "\n",
    "    if step % output_freq == 0:\n",
    "        qs.append(q.copy(deepcopy=True))\n",
    "        print(\"t=\", t)"
   ]
  },
  {
   "cell_type": "code",
   "execution_count": null,
   "metadata": {},
   "outputs": [],
   "source": [
    "\n",
    "L2_err = sqrt(assemble((q - q_init)*(q - q_init)*dx))\n",
    "L2_init = sqrt(assemble(q_init*q_init*dx))\n",
    "print(L2_err/L2_init)\n",
    "\n",
    "nsp = 16\n",
    "fn_plotter = FunctionPlotter(mesh, num_sample_points=nsp)\n",
    "\n",
    "fig, axes = plt.subplots()\n",
    "axes.set_aspect('equal')\n",
    "colors = tripcolor(q_init, num_sample_points=nsp, vmin=1, vmax=2, axes=axes)\n",
    "fig.colorbar(colors)\n",
    "\n",
    "def animate(q):\n",
    "    colors.set_array(fn_plotter(q))\n",
    "\n",
    "interval = 1e3 * output_freq * dt\n",
    "animation = FuncAnimation(fig, animate, frames=qs, interval=interval)"
   ]
  }
 ],
 "metadata": {
  "kernelspec": {
   "display_name": "Python 3.8.10 ('firedrake': venv)",
   "language": "python",
   "name": "python3"
  },
  "language_info": {
   "codemirror_mode": {
    "name": "ipython",
    "version": 3
   },
   "file_extension": ".py",
   "mimetype": "text/x-python",
   "name": "python",
   "nbconvert_exporter": "python",
   "pygments_lexer": "ipython3",
   "version": "3.8.10"
  },
  "orig_nbformat": 4,
  "vscode": {
   "interpreter": {
    "hash": "cede3015d337f4548ee6bd30fa0236e655b1d4c6d37bdfce638927c81d1e565c"
   }
  }
 },
 "nbformat": 4,
 "nbformat_minor": 2
}
