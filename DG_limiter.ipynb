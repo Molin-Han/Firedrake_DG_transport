{
 "cells": [
  {
   "cell_type": "code",
   "execution_count": 113,
   "metadata": {},
   "outputs": [],
   "source": [
    "from firedrake import *\n",
    "import math\n",
    "%matplotlib inline\n",
    "import matplotlib.pyplot as plt\n",
    "from matplotlib.animation import FuncAnimation\n"
   ]
  },
  {
   "cell_type": "code",
   "execution_count": 114,
   "metadata": {},
   "outputs": [],
   "source": [
    "mesh = UnitSquareMesh(40, 40, quadrilateral=True)"
   ]
  },
  {
   "cell_type": "code",
   "execution_count": 115,
   "metadata": {},
   "outputs": [
    {
     "data": {
      "image/png": "[encoded data removed]",
      "text/plain": [
       "<Figure size 432x288 with 1 Axes>"
      ]
     },
     "metadata": {
      "needs_background": "light"
     },
     "output_type": "display_data"
    }
   ],
   "source": [
    "fig, axes = plt.subplots()\n",
    "triplot(mesh, axes=axes)\n",
    "axes.legend();"
   ]
  },
  {
   "cell_type": "code",
   "execution_count": 116,
   "metadata": {},
   "outputs": [],
   "source": [
    "V = FunctionSpace(mesh, \"DQ\", 1)\n",
    "W = VectorFunctionSpace(mesh, \"CG\", 1)"
   ]
  },
  {
   "cell_type": "code",
   "execution_count": 117,
   "metadata": {},
   "outputs": [],
   "source": [
    "x, y = SpatialCoordinate(mesh)\n",
    "\n",
    "velocity = as_vector((4 - 4 * y, 3 * x - 4))\n",
    "u = Function(W).interpolate(velocity)\n"
   ]
  },
  {
   "cell_type": "code",
   "execution_count": 118,
   "metadata": {},
   "outputs": [],
   "source": [
    "bell_r0 = 0.15; bell_x0 = 0.25; bell_y0 = 0.5\n",
    "cone_r0 = 0.15; cone_x0 = 0.5; cone_y0 = 0.25\n",
    "cyl_r0 = 0.15; cyl_x0 = 0.5; cyl_y0 = 0.75\n",
    "slot_left = 0.475; slot_right = 0.525; slot_top = 0.85\n",
    "\n",
    "bell = 0.25*(1+cos(math.pi*min_value(sqrt(pow(x-bell_x0, 2) + pow(y-bell_y0, 2))/bell_r0, 1.0)))\n",
    "cone = 1.0 - min_value(sqrt(pow(x-cone_x0, 2) + pow(y-cone_y0, 2))/cyl_r0, 1.0)\n",
    "slot_cyl = conditional(sqrt(pow(x-cyl_x0, 2) + pow(y-cyl_y0, 2)) < cyl_r0,\n",
    "             conditional(And(And(x > slot_left, x < slot_right), y < slot_top),\n",
    "               0.0, 1.0), 0.0)"
   ]
  },
  {
   "cell_type": "code",
   "execution_count": 119,
   "metadata": {},
   "outputs": [],
   "source": [
    "q = Function(V).interpolate(1.0 + bell + cone + slot_cyl)\n",
    "q_init = Function(V).assign(q)"
   ]
  },
  {
   "cell_type": "code",
   "execution_count": 120,
   "metadata": {},
   "outputs": [],
   "source": [
    "qs = []"
   ]
  },
  {
   "cell_type": "code",
   "execution_count": 121,
   "metadata": {},
   "outputs": [],
   "source": [
    "T = 2*math.pi\n",
    "dt = T/1200\n",
    "dtc = Constant(dt)\n",
    "q_in = Constant(1.0)"
   ]
  },
  {
   "cell_type": "code",
   "execution_count": 122,
   "metadata": {},
   "outputs": [],
   "source": [
    "dq_trial = TrialFunction(V)\n",
    "phi = TestFunction(V)\n",
    "a = phi*dq_trial*dx"
   ]
  },
  {
   "cell_type": "code",
   "execution_count": 123,
   "metadata": {},
   "outputs": [],
   "source": [
    "n = FacetNormal(mesh)\n",
    "un = 0.5*(dot(u, n) + abs(dot(u, n)))"
   ]
  },
  {
   "cell_type": "code",
   "execution_count": 124,
   "metadata": {},
   "outputs": [],
   "source": [
    "L1 = dtc*(q*div(phi*u)*dx\n",
    "          - conditional(dot(u, n) < 0, phi*dot(u, n)*q_in, 0.0)*ds\n",
    "          - conditional(dot(u, n) > 0, phi*dot(u, n)*q, 0.0)*ds\n",
    "          - (phi('+') - phi('-'))*(un('+')*q('+') - un('-')*q('-'))*dS)"
   ]
  },
  {
   "cell_type": "code",
   "execution_count": 125,
   "metadata": {},
   "outputs": [],
   "source": [
    "q1 = Function(V); q2 = Function(V)\n",
    "L2 = replace(L1, {q: q1}); L3 = replace(L1, {q: q2})"
   ]
  },
  {
   "cell_type": "code",
   "execution_count": 126,
   "metadata": {},
   "outputs": [],
   "source": [
    "dq = Function(V)"
   ]
  },
  {
   "cell_type": "code",
   "execution_count": 127,
   "metadata": {},
   "outputs": [],
   "source": [
    "params = {'ksp_type': 'preonly', 'pc_type': 'bjacobi', 'sub_pc_type': 'ilu'}\n",
    "prob1 = LinearVariationalProblem(a, L1, dq)\n",
    "solv1 = LinearVariationalSolver(prob1, solver_parameters=params)\n",
    "prob2 = LinearVariationalProblem(a, L2, dq)\n",
    "solv2 = LinearVariationalSolver(prob2, solver_parameters=params)\n",
    "prob3 = LinearVariationalProblem(a, L3, dq)\n",
    "solv3 = LinearVariationalSolver(prob3, solver_parameters=params)"
   ]
  },
  {
   "cell_type": "code",
   "execution_count": 128,
   "metadata": {},
   "outputs": [],
   "source": [
    "limiter = VertexBasedLimiter(V)"
   ]
  },
  {
   "cell_type": "code",
   "execution_count": 129,
   "metadata": {},
   "outputs": [],
   "source": [
    "t = 0.0\n",
    "step = 0\n",
    "output_freq = 20"
   ]
  },
  {
   "cell_type": "code",
   "execution_count": 130,
   "metadata": {},
   "outputs": [],
   "source": [
    "limiter.apply(q)"
   ]
  },
  {
   "cell_type": "code",
   "execution_count": 131,
   "metadata": {},
   "outputs": [
    {
     "name": "stdout",
     "output_type": "stream",
     "text": [
      "t= 0.0\n",
      "t= 0.10471975511965971\n",
      "t= 0.2094395102393196\n",
      "t= 0.3141592653589795\n",
      "t= 0.4188790204786394\n",
      "t= 0.5235987755982993\n",
      "t= 0.6283185307179592\n",
      "t= 0.7330382858376191\n",
      "t= 0.837758040957279\n",
      "t= 0.9424777960769389\n",
      "t= 1.0471975511965979\n",
      "t= 1.1519173063162556\n",
      "t= 1.2566370614359132\n",
      "t= 1.361356816555571\n",
      "t= 1.4660765716752286\n",
      "t= 1.5707963267948863\n",
      "t= 1.675516081914544\n",
      "t= 1.7802358370342017\n",
      "t= 1.8849555921538594\n",
      "t= 1.9896753472735171\n",
      "t= 2.094395102393179\n",
      "t= 2.199114857512841\n",
      "t= 2.303834612632503\n",
      "t= 2.4085543677521652\n",
      "t= 2.5132741228718274\n",
      "t= 2.6179938779914895\n",
      "t= 2.7227136331111517\n",
      "t= 2.827433388230814\n",
      "t= 2.932153143350476\n",
      "t= 3.036872898470138\n",
      "t= 3.1415926535898\n",
      "t= 3.2463124087094624\n",
      "t= 3.3510321638291245\n",
      "t= 3.4557519189487866\n",
      "t= 3.5604716740684488\n",
      "t= 3.665191429188111\n",
      "t= 3.769911184307773\n",
      "t= 3.874630939427435\n",
      "t= 3.9793506945470973\n",
      "t= 4.084070449666752\n",
      "t= 4.188790204786406\n",
      "t= 4.293509959906059\n",
      "t= 4.398229715025712\n",
      "t= 4.502949470145365\n",
      "t= 4.607669225265019\n",
      "t= 4.712388980384672\n",
      "t= 4.817108735504325\n",
      "t= 4.921828490623978\n",
      "t= 5.026548245743632\n",
      "t= 5.131268000863285\n",
      "t= 5.235987755982938\n",
      "t= 5.3407075111025915\n",
      "t= 5.445427266222245\n",
      "t= 5.550147021341898\n",
      "t= 5.654866776461551\n",
      "t= 5.7595865315812045\n",
      "t= 5.864306286700858\n",
      "t= 5.969026041820511\n",
      "t= 6.073745796940164\n",
      "t= 6.1784655520598175\n",
      "t= 6.283185307179471\n"
     ]
    }
   ],
   "source": [
    "if step % output_freq == 0:\n",
    "        qs.append(q.copy(deepcopy=True))\n",
    "        print(\"t=\", t)\n",
    "while t < T - 0.5*dt:\n",
    "    solv1.solve()\n",
    "    q1.assign(q + dq)\n",
    "    limiter.apply(q1)\n",
    "\n",
    "    solv2.solve()\n",
    "    q2.assign(0.75*q + 0.25*(q1 + dq))\n",
    "    limiter.apply(q2)\n",
    "\n",
    "    solv3.solve()\n",
    "    q.assign((1.0/3.0)*q + (2.0/3.0)*(q2 + dq))\n",
    "\n",
    "    step += 1\n",
    "    t += dt\n",
    "\n",
    "    if step % output_freq == 0:\n",
    "        qs.append(q.copy(deepcopy=True))\n",
    "        print(\"t=\", t)"
   ]
  },
  {
   "cell_type": "code",
   "execution_count": 132,
   "metadata": {},
   "outputs": [
    {
     "name": "stdout",
     "output_type": "stream",
     "text": [
      "0.24087898041074562\n"
     ]
    }
   ],
   "source": [
    "L2_err = sqrt(assemble((q - q_init)*(q - q_init)*dx))\n",
    "L2_init = sqrt(assemble(q_init*q_init*dx))\n",
    "print(L2_err/L2_init)"
   ]
  },
  {
   "cell_type": "code",
   "execution_count": 133,
   "metadata": {},
   "outputs": [],
   "source": [
    "nsp = 16\n",
    "fn_plotter = FunctionPlotter(mesh, num_sample_points=nsp)"
   ]
  },
  {
   "cell_type": "code",
   "execution_count": 134,
   "metadata": {},
   "outputs": [
    {
     "data": {
      "text/plain": [
       "<matplotlib.colorbar.Colorbar at 0x7f2764dd8b20>"
      ]
     },
     "execution_count": 134,
     "metadata": {},
     "output_type": "execute_result"
    },
    {
     "data": {
      "image/png": "[encoded data removed]",
      "text/plain": [
       "<Figure size 432x288 with 2 Axes>"
      ]
     },
     "metadata": {
      "needs_background": "light"
     },
     "output_type": "display_data"
    }
   ],
   "source": [
    "fig, axes = plt.subplots()\n",
    "axes.set_aspect('equal')\n",
    "colors = tripcolor(q_init, num_sample_points=nsp, vmin=1, vmax=2, axes=axes)\n",
    "fig.colorbar(colors)"
   ]
  },
  {
   "cell_type": "code",
   "execution_count": 135,
   "metadata": {},
   "outputs": [],
   "source": [
    "def animate(q):\n",
    "    colors.set_array(fn_plotter(q))"
   ]
  },
  {
   "cell_type": "code",
   "execution_count": 136,
   "metadata": {},
   "outputs": [],
   "source": [
    "interval = 1e3 * output_freq * dt\n",
    "animation = FuncAnimation(fig, animate, frames=qs, interval=interval)\n",
    "try:\n",
    "    animation.save(\"DG_advection_limiter_try8.mp4\", writer=\"ffmpeg\")\n",
    "except:\n",
    "    print(\"Failed to write movie! Try installing `ffmpeg`.\")"
   ]
  },
  {
   "cell_type": "code",
   "execution_count": null,
   "metadata": {},
   "outputs": [],
   "source": []
  }
 ],
 "metadata": {
  "kernelspec": {
   "display_name": "Python 3.8.10 ('firedrake': venv)",
   "language": "python",
   "name": "python3"
  },
  "language_info": {
   "codemirror_mode": {
    "name": "ipython",
    "version": 3
   },
   "file_extension": ".py",
   "mimetype": "text/x-python",
   "name": "python",
   "nbconvert_exporter": "python",
   "pygments_lexer": "ipython3",
   "version": "3.8.10"
  },
  "orig_nbformat": 4,
  "vscode": {
   "interpreter": {
    "hash": "cede3015d337f4548ee6bd30fa0236e655b1d4c6d37bdfce638927c81d1e565c"
   }
  }
 },
 "nbformat": 4,
 "nbformat_minor": 2
}
